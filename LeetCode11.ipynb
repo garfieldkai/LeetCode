{
 "cells": [
  {
   "cell_type": "code",
   "execution_count": 1,
   "metadata": {},
   "outputs": [],
   "source": [
    "class Solution:\n",
    "    def maxArea(self, height):\n",
    "        max_global = 0\n",
    "        i=0\n",
    "        j=len(height)-1\n",
    "        while i<j:\n",
    "            max = (j-i) * min(height[j],height[i])\n",
    "            if(max > max_global):\n",
    "                max_global = max\n",
    "            # if min(height[i],height[j-1]) > min(height[i+1],height[j]):\n",
    "            #     j = j-1\n",
    "            if height[i] < height[j]:\n",
    "                i = i+1\n",
    "            else:\n",
    "                j = j-1\n",
    "        return max_global"
   ]
  },
  {
   "cell_type": "code",
   "execution_count": 2,
   "metadata": {},
   "outputs": [
    {
     "name": "stdout",
     "output_type": "stream",
     "text": [
      "24\n"
     ]
    }
   ],
   "source": [
    "if __name__ == '__main__':\n",
    "    height = [1,3,2,5,25,24,5]\n",
    "    solution = Solution()\n",
    "    print(solution.maxArea(height))"
   ]
  },
  {
   "cell_type": "code",
   "execution_count": null,
   "metadata": {},
   "outputs": [],
   "source": []
  }
 ],
 "metadata": {
  "kernelspec": {
   "display_name": "Python 3",
   "language": "python",
   "name": "python3"
  },
  "language_info": {
   "codemirror_mode": {
    "name": "ipython",
    "version": 3
   },
   "file_extension": ".py",
   "mimetype": "text/x-python",
   "name": "python",
   "nbconvert_exporter": "python",
   "pygments_lexer": "ipython3",
   "version": "3.7.3"
  }
 },
 "nbformat": 4,
 "nbformat_minor": 2
}
