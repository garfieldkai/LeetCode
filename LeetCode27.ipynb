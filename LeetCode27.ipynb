{
 "cells": [
  {
   "cell_type": "code",
   "execution_count": null,
   "metadata": {},
   "outputs": [],
   "source": [
    "class Solution:\n",
    "    '''\n",
    "    给定一个数组 nums 和一个值 val，你需要原地移除所有数值等于 val 的元素，返回移除后数组的新长度。\n",
    "    不要使用额外的数组空间，你必须在原地修改输入数组并在使用 O(1) 额外空间的条件下完成。\n",
    "    元素的顺序可以改变。你不需要考虑数组中超出新长度后面的元素。\n",
    "    示例 1:\n",
    "    给定 nums = [3,2,2,3], val = 3,\n",
    "    函数应该返回新的长度 2, 并且 nums 中的前两个元素均为 2。\n",
    "    你不需要考虑数组中超出新长度后面的元素。\n",
    "    '''\n",
    "    def removeElement(self, nums, val):\n",
    "        length = len(nums)\n",
    "        i = 0\n",
    "        # cursor寻找下标i后第一个不为val的下标\n",
    "        cursor = 1\n",
    "        while i < length:\n",
    "            if nums[i] != val:\n",
    "                # i的取值不为val时，cursor和i同时后移\n",
    "                cursor+=1\n",
    "            else:\n",
    "                while cursor < length:\n",
    "                    # 找到不为val的值后，交换i和cursor\n",
    "                    if nums[cursor] != val:\n",
    "                        nums[i] = nums[cursor]\n",
    "                        nums[cursor] = val\n",
    "                        break\n",
    "                    else:\n",
    "                        cursor+=1\n",
    "                if cursor == length:\n",
    "                    break\n",
    "            i += 1\n",
    "        nums = nums[:i]\n",
    "        return len(nums)"
   ]
  },
  {
   "cell_type": "code",
   "execution_count": null,
   "metadata": {},
   "outputs": [],
   "source": [
    "if __name__ == '__main__':\n",
    "    nums = [3,2,2,3]\n",
    "    val = 3\n",
    "    solution = Solution()\n",
    "    print(solution.removeElement(nums,val))"
   ]
  }
 ],
 "metadata": {
  "kernelspec": {
   "display_name": "Python 3",
   "language": "python",
   "name": "python3"
  },
  "language_info": {
   "codemirror_mode": {
    "name": "ipython",
    "version": 3
   },
   "file_extension": ".py",
   "mimetype": "text/x-python",
   "name": "python",
   "nbconvert_exporter": "python",
   "pygments_lexer": "ipython3",
   "version": "3.7.3"
  }
 },
 "nbformat": 4,
 "nbformat_minor": 2
}
