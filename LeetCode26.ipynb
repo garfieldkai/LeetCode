{
 "cells": [
  {
   "cell_type": "code",
   "execution_count": 1,
   "metadata": {},
   "outputs": [],
   "source": [
    "class Solution:\n",
    "    '''\n",
    "    26. 删除排序数组中的重复项\n",
    "    给定一个排序数组，你需要在原地删除重复出现的元素，使得每个元素只出现一次，返回移除后数组的新长度。\n",
    "    不要使用额外的数组空间，你必须在原地修改输入数组并在使用 O(1) 额外空间的条件下完成。\n",
    "    '''\n",
    "    def removeDuplicates(self, nums):\n",
    "        length = len(nums)\n",
    "        i = 0\n",
    "        j = 1\n",
    "        for i in range(length):\n",
    "            cursor = nums[i]\n",
    "            while j < length:\n",
    "                if nums[j] == cursor:\n",
    "                    j += 1\n",
    "                else:\n",
    "                    nums[i + 1] = nums[j]\n",
    "                    break\n",
    "            if j == length:\n",
    "                break\n",
    "        nums = nums[:i + 1]\n",
    "        return len(nums)"
   ]
  },
  {
   "cell_type": "code",
   "execution_count": 2,
   "metadata": {},
   "outputs": [
    {
     "name": "stdout",
     "output_type": "stream",
     "text": [
      "5\n"
     ]
    }
   ],
   "source": [
    "if __name__ == '__main__':\n",
    "    nums = [0,0,1,1,1,2,2,3,3,4]\n",
    "    solution = Solution()\n",
    "    print(solution.removeDuplicates(nums))"
   ]
  }
 ],
 "metadata": {
  "kernelspec": {
   "display_name": "Python 3",
   "language": "python",
   "name": "python3"
  },
  "language_info": {
   "codemirror_mode": {
    "name": "ipython",
    "version": 3
   },
   "file_extension": ".py",
   "mimetype": "text/x-python",
   "name": "python",
   "nbconvert_exporter": "python",
   "pygments_lexer": "ipython3",
   "version": "3.7.3"
  }
 },
 "nbformat": 4,
 "nbformat_minor": 2
}
