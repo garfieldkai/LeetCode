{
 "cells": [
  {
   "cell_type": "code",
   "execution_count": null,
   "metadata": {},
   "outputs": [],
   "source": [
    "class Solution:\n",
    "    def search(self, nums, target):\n",
    "        end = len(nums)-1\n",
    "        start = 0\n",
    "        if end < 0:\n",
    "            return -1\n",
    "        if end==0:\n",
    "            if target == nums[end]:\n",
    "                return 0\n",
    "            else:\n",
    "                return -1\n",
    "        while(start < end):\n",
    "            middle = (start + end)//2\n",
    "            if target == nums[middle]:\n",
    "                return middle\n",
    "            if nums[start] <= nums[middle]:\n",
    "                if nums[start] <= target and target < nums[middle]:\n",
    "                    end = middle - 1\n",
    "                else:\n",
    "                    start = middle + 1\n",
    "            else:\n",
    "                if nums[middle] < target and target <= nums[end]:\n",
    "                    start = middle + 1\n",
    "                else:\n",
    "                    end = middle - 1\n",
    "        if nums[start]==target:\n",
    "            return start\n",
    "        else:\n",
    "            return -1"
   ]
  },
  {
   "cell_type": "code",
   "execution_count": null,
   "metadata": {},
   "outputs": [],
   "source": [
    "if __name__ == '__main__':\n",
    "    nums = [1,3]\n",
    "    target = 3\n",
    "    solution = Solution()\n",
    "    print(solution.search(nums,target))"
   ]
  }
 ],
 "metadata": {
  "kernelspec": {
   "display_name": "Python 3",
   "language": "python",
   "name": "python3"
  },
  "language_info": {
   "codemirror_mode": {
    "name": "ipython",
    "version": 3
   },
   "file_extension": ".py",
   "mimetype": "text/x-python",
   "name": "python",
   "nbconvert_exporter": "python",
   "pygments_lexer": "ipython3",
   "version": "3.7.3"
  }
 },
 "nbformat": 4,
 "nbformat_minor": 2
}
