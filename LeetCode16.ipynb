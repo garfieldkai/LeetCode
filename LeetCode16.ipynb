{
 "cells": [
  {
   "cell_type": "code",
   "execution_count": 1,
   "metadata": {},
   "outputs": [],
   "source": [
    "class Solution:\n",
    "    def threeSumClosest(self, nums, target):\n",
    "        nums.sort()\n",
    "        length = len(nums)\n",
    "        dist = None\n",
    "        closest = None\n",
    "        findOptimalSolution = False\n",
    "        for i in range(length):\n",
    "            if findOptimalSolution:\n",
    "                break\n",
    "            if i > 0 and nums[i] == nums[i - 1]:\n",
    "                continue\n",
    "            left = i + 1\n",
    "            right = length - 1\n",
    "            while left < right:\n",
    "                if nums[i] + nums[left] + nums[right] == target:\n",
    "                    closest = target\n",
    "                    findOptimalSolution = True\n",
    "                    break\n",
    "                elif nums[i] + nums[left] + nums[right] < target:\n",
    "                    tempDist = abs(nums[i] + nums[left] + nums[right] - target)\n",
    "                    if not dist or tempDist < dist:\n",
    "                        closest = nums[i] + nums[left] + nums[right]\n",
    "                        dist = tempDist\n",
    "                    left = left + 1\n",
    "                else:\n",
    "                    tempDist = abs(nums[i] + nums[left] + nums[right] - target)\n",
    "                    if not dist or tempDist < dist:\n",
    "                        closest = nums[i] + nums[left] + nums[right]\n",
    "                        dist = tempDist\n",
    "                    right = right - 1\n",
    "        return closest"
   ]
  },
  {
   "cell_type": "code",
   "execution_count": 2,
   "metadata": {},
   "outputs": [
    {
     "name": "stdout",
     "output_type": "stream",
     "text": [
      "0\n"
     ]
    }
   ],
   "source": [
    "if __name__ == '__main__':\n",
    "    nums = [0,2,1,-3]\n",
    "    target = 1\n",
    "    solution = Solution()\n",
    "    print(solution.threeSumClosest(nums,target))"
   ]
  }
 ],
 "metadata": {
  "kernelspec": {
   "display_name": "Python 3",
   "language": "python",
   "name": "python3"
  },
  "language_info": {
   "codemirror_mode": {
    "name": "ipython",
    "version": 3
   },
   "file_extension": ".py",
   "mimetype": "text/x-python",
   "name": "python",
   "nbconvert_exporter": "python",
   "pygments_lexer": "ipython3",
   "version": "3.7.3"
  }
 },
 "nbformat": 4,
 "nbformat_minor": 2
}
