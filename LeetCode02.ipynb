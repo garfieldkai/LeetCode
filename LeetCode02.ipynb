{
 "cells": [
  {
   "cell_type": "code",
   "execution_count": 2,
   "metadata": {},
   "outputs": [],
   "source": [
    "# Definition for singly-linked list.\n",
    "class ListNode:\n",
    "    def __init__(self, x):\n",
    "        self.val = x\n",
    "        self.next = None"
   ]
  },
  {
   "cell_type": "code",
   "execution_count": 3,
   "metadata": {},
   "outputs": [],
   "source": [
    "class Solution:\n",
    "    def addTwoNumbers(self, l1, l2):\n",
    "        divisionValue = 0\n",
    "        rootNode = ListNode(0)\n",
    "        rootNode.next = ListNode(0)\n",
    "        r = rootNode\n",
    "        while l1 or l2:\n",
    "            if l1 and l2:\n",
    "                sum = l1.val + l2.val + divisionValue\n",
    "                divisionValue = (sum) // 10\n",
    "                modValue = (sum) % 10\n",
    "                r.next.val = modValue\n",
    "                r.next.next = ListNode(modValue)\n",
    "            elif l1:\n",
    "                sum = l1.val + divisionValue\n",
    "                divisionValue = (sum) // 10\n",
    "                modValue = (sum) % 10\n",
    "                r.next.val = modValue\n",
    "                r.next.next = ListNode(modValue)\n",
    "            else:\n",
    "                sum = l2.val + divisionValue\n",
    "                divisionValue = (sum) // 10\n",
    "                modValue = (sum) % 10\n",
    "                r.next.val = modValue\n",
    "                r.next.next = ListNode(modValue)\n",
    "            l1 = l1.next\n",
    "            l2 = l2.next\n",
    "            r = r.next\n",
    "        if divisionValue:\n",
    "            r.next.val = divisionValue\n",
    "            r.next.next = None\n",
    "        else:\n",
    "            r.next = None\n",
    "        return rootNode.next"
   ]
  },
  {
   "cell_type": "code",
   "execution_count": 4,
   "metadata": {},
   "outputs": [],
   "source": [
    "if __name__ == '__main__':\n",
    "    list1 = [2,4,3]\n",
    "    list2 = [5,6,4]\n",
    "    nodelist1 = ListNode(0)\n",
    "    nodelist1.next = ListNode(0)\n",
    "    n1 = nodelist1\n",
    "    nodelist2 = ListNode(0)\n",
    "    nodelist2.next = ListNode(0)\n",
    "    n2 = nodelist2\n",
    "    for val in list1[:-1]:\n",
    "        n1.next.val = val\n",
    "        n1.next.next = ListNode(val)\n",
    "        n1 = n1.next\n",
    "    n1.next = ListNode(list1[-1])\n",
    "    for val in list2[:-1]:\n",
    "        n2.next.val = val\n",
    "        n2.next.next = ListNode(val)\n",
    "        n2 = n2.next\n",
    "    n2.next = ListNode(list2[-1])\n",
    "    solution = Solution()\n",
    "    result = solution.addTwoNumbers(nodelist1.next, nodelist2.next)"
   ]
  }
 ],
 "metadata": {
  "kernelspec": {
   "display_name": "Python 3",
   "language": "python",
   "name": "python3"
  },
  "language_info": {
   "codemirror_mode": {
    "name": "ipython",
    "version": 3
   },
   "file_extension": ".py",
   "mimetype": "text/x-python",
   "name": "python",
   "nbconvert_exporter": "python",
   "pygments_lexer": "ipython3",
   "version": "3.7.3"
  }
 },
 "nbformat": 4,
 "nbformat_minor": 2
}
