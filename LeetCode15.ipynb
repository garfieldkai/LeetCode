{
 "cells": [
  {
   "cell_type": "code",
   "execution_count": null,
   "metadata": {},
   "outputs": [],
   "source": [
    "class Solution:\n",
    "    def threeSum(self, nums):\n",
    "        nums.sort()\n",
    "        length = len(nums)\n",
    "        res = []\n",
    "        for i in range(length):\n",
    "            if i > 0 and nums[i]==nums[i-1]:\n",
    "                continue\n",
    "            left = i+1\n",
    "            right = length - 1\n",
    "            while left < right:\n",
    "                if nums[i] + nums[left] + nums[right] == 0:\n",
    "                    res.append([nums[i],nums[left],nums[right]])\n",
    "                    while left < right and nums[left]==nums[left+1]:\n",
    "                        left = left + 1\n",
    "                    while left < right and nums[right]==nums[right-1]:\n",
    "                        right = right - 1\n",
    "                    left = left +1\n",
    "                    right = right - 1\n",
    "                elif nums[i] + nums[left] + nums[right] < 0:\n",
    "                    left = left + 1\n",
    "                else:\n",
    "                    right = right - 1\n",
    "        return res"
   ]
  },
  {
   "cell_type": "code",
   "execution_count": null,
   "metadata": {},
   "outputs": [],
   "source": [
    "if __name__ == '__main__':\n",
    "    nums = [-1, 0, 1, 2, -1, -4]\n",
    "    solution = Solution()\n",
    "    print(solution.threeSum(nums))"
   ]
  }
 ],
 "metadata": {
  "kernelspec": {
   "display_name": "Python 3",
   "language": "python",
   "name": "python3"
  },
  "language_info": {
   "codemirror_mode": {
    "name": "ipython",
    "version": 3
   },
   "file_extension": ".py",
   "mimetype": "text/x-python",
   "name": "python",
   "nbconvert_exporter": "python",
   "pygments_lexer": "ipython3",
   "version": "3.7.3"
  }
 },
 "nbformat": 4,
 "nbformat_minor": 2
}
