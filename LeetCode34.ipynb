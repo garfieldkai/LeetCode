{
 "cells": [
  {
   "cell_type": "code",
   "execution_count": null,
   "metadata": {},
   "outputs": [],
   "source": [
    "class Solution:\n",
    "    '''\n",
    "    给定一个按照升序排列的整数数组 nums，和一个目标值 target。找出给定目标值在数组中的开始位置和结束位置。\n",
    "    你的算法时间复杂度必须是 O(log n) 级别。\n",
    "    如果数组中不存在目标值，返回 [-1, -1]。\n",
    "    '''\n",
    "    def searchRange(self, nums, target):\n",
    "        if not nums:\n",
    "            return [-1, -1]\n",
    "        left = -1\n",
    "        right = -1\n",
    "        length = len(nums)\n",
    "        low = 0\n",
    "        high = length - 1\n",
    "        # 查找最左侧下标\n",
    "        while low < high:\n",
    "            middle = (low + high) // 2\n",
    "            if nums[low] <= target and target <= nums[middle]:\n",
    "                high = middle\n",
    "            else:\n",
    "                low = middle + 1\n",
    "        if nums[low] == target:\n",
    "            left = low\n",
    "        else:\n",
    "            # 未找到左侧下标，则返回[-1,-1]\n",
    "            return [-1, -1]\n",
    "        low = 0\n",
    "        high = length - 1\n",
    "        # 查找最右侧下标\n",
    "        while low < high:\n",
    "            middle = (low + high) // 2\n",
    "            if nums[middle + 1] <= target and target <= nums[high]:\n",
    "                low = middle + 1\n",
    "            else:\n",
    "                high = middle\n",
    "        # 不会存在找不到右侧下标的情况，因为如果存在，已经在寻找左侧下标时返回[-1,-1]\n",
    "        if nums[high] == target:\n",
    "            right = high\n",
    "            return [left, right]"
   ]
  },
  {
   "cell_type": "code",
   "execution_count": null,
   "metadata": {},
   "outputs": [],
   "source": [
    "if __name__ == '__main__':\n",
    "    nums = [5,8]\n",
    "    target = 8\n",
    "    solution = Solution()\n",
    "    print(solution.searchRange(nums,target))"
   ]
  }
 ],
 "metadata": {
  "kernelspec": {
   "display_name": "Python 3",
   "language": "python",
   "name": "python3"
  },
  "language_info": {
   "codemirror_mode": {
    "name": "ipython",
    "version": 3
   },
   "file_extension": ".py",
   "mimetype": "text/x-python",
   "name": "python",
   "nbconvert_exporter": "python",
   "pygments_lexer": "ipython3",
   "version": "3.7.3"
  }
 },
 "nbformat": 4,
 "nbformat_minor": 2
}
